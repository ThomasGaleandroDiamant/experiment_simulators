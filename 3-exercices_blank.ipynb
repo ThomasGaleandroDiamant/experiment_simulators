{
 "cells": [
  {
   "cell_type": "code",
   "execution_count": 37,
   "metadata": {},
   "outputs": [],
   "source": [
    "import numpy as np\n",
    "import ipywidgets as widgets"
   ]
  },
  {
   "cell_type": "code",
   "execution_count": 45,
   "metadata": {},
   "outputs": [],
   "source": [
    "from sklearn.ensemble import ExtraTreesRegressor\n",
    "from numpy import genfromtxt\n",
    "\n",
    "\n",
    "class ConcreteSimulator:\n",
    "    \"\"\"\n",
    "    All quantities are in kg/m3\n",
    "    Dimensions :\n",
    "    - Cement quantity (between 0 and 550)\n",
    "    - Blast furnace slag quantity (between 0 and 300)\n",
    "    - Fly ash quantity (between 0 and 200)\n",
    "    - Water quantity (between 120 and 240)\n",
    "    - Superplasticizer quantity (between 0 and 28)\n",
    "    - Coarse aggregate quantity (between 800 and 1150)\n",
    "    - Fine aggregate quantity (between 600 and 1000)\n",
    "    - Age (between 3 and 365)\n",
    "    Output :\n",
    "    - Compressive strength (in MPa)\n",
    "    \"\"\"\n",
    "\n",
    "    def __init__(self):\n",
    "        data = genfromtxt('Concrete_Data_clean.csv', delimiter=',', skip_header = 1)\n",
    "        X = data[:,:-1]\n",
    "        y = data[:,-1]\n",
    "        self.model = ExtraTreesRegressor()\n",
    "        self.model.fit(X, y)\n",
    "\n",
    "    def get_compressive_strength(self, X):\n",
    "        \"\"\"\n",
    "        :rtype: list[float]\n",
    "        \"\"\"\n",
    "        X = np.array(X)\n",
    "        if len(X.shape) > 1:\n",
    "            return self.model.predict(X)[0]\n",
    "        else:\n",
    "            return self.model.predict([X])[0]\n",
    "\n",
    "\n",
    "\n",
    "class BenzylationReactionSimulator:\n",
    "    \"\"\"\n",
    "    Simulates the yield of impurity in an N-benzylation reaction.\n",
    "    \"parameters\": [\n",
    "    {\"name\": \"flow_rate\",   \"low\": 0.2,   \"high\": 0.4},\n",
    "    {\"name\": \"ratio\",       \"low\": 1.0,   \"high\": 5.0},\n",
    "    {\"name\": \"solvent\",     \"low\": 0.5,   \"high\": 1.0},\n",
    "    {\"name\": \"temperature\", \"low\": 110.0, \"high\": 150.0}\n",
    "    ],\n",
    "    \"\"\"\n",
    "\n",
    "    def __init__(self):\n",
    "        data = genfromtxt('benzylation.csv', delimiter=',', skip_header = 0)\n",
    "        X = data[:,:-1]\n",
    "        y = data[:,-1]\n",
    "        self.model = ExtraTreesRegressor()\n",
    "        self.model.fit(X, y)\n",
    "\n",
    "    def get_impurity_yield(self, X):\n",
    "        \"\"\"\n",
    "        :rtype: list[float]\n",
    "        \"\"\"\n",
    "        X = np.array(X)\n",
    "        if len(X.shape) > 1:\n",
    "            return self.model.predict(X)[0]\n",
    "        else:\n",
    "            return self.model.predict([X])[0]\n",
    "\n"
   ]
  },
  {
   "cell_type": "markdown",
   "metadata": {},
   "source": [
    "# Benzylation reaction simulator"
   ]
  },
  {
   "cell_type": "code",
   "execution_count": 44,
   "metadata": {},
   "outputs": [
    {
     "data": {
      "application/vnd.jupyter.widget-view+json": {
       "model_id": "9e26c986296f45c9bf155e114507b989",
       "version_major": 2,
       "version_minor": 0
      },
      "text/plain": [
       "VBox(children=(HTML(value='Inputs separated by commas:'), Text(value=''), HTML(value='Output of the model:'), …"
      ]
     },
     "execution_count": 44,
     "metadata": {},
     "output_type": "execute_result"
    }
   ],
   "source": [
    "emulator = BenzylationReactionSimulator()\n",
    "\n",
    "t0 = widgets.HTML(value=\"Inputs separated by commas:\")\n",
    "p = widgets.Text()\n",
    "t = widgets.HTML(value=\"Output of the model:\")\n",
    "o = widgets.Output(description=\"y\")\n",
    "def compute(*ignore):\n",
    "    with o:\n",
    "        o.clear_output()\n",
    "        try:\n",
    "            output = emulator.get_impurity_yield(p.value.split(\",\"))\n",
    "            print(output)\n",
    "        except Exception as e:\n",
    "            print(e)\n",
    "p.observe(compute, 'value')\n",
    "widgets.VBox([t0, p, t, o])\n"
   ]
  },
  {
   "cell_type": "markdown",
   "metadata": {},
   "source": [
    "# Concrete formulation simulator"
   ]
  },
  {
   "cell_type": "code",
   "execution_count": 47,
   "metadata": {},
   "outputs": [
    {
     "data": {
      "application/vnd.jupyter.widget-view+json": {
       "model_id": "10cf180048794887a071fd07b1ee2db0",
       "version_major": 2,
       "version_minor": 0
      },
      "text/plain": [
       "VBox(children=(HTML(value='Inputs separated by commas:'), Text(value=''), HTML(value='Output of the model:'), …"
      ]
     },
     "execution_count": 47,
     "metadata": {},
     "output_type": "execute_result"
    }
   ],
   "source": [
    "\n",
    "# Exemple d'utilisation du simulateur\n",
    "emulator_concrete = ConcreteSimulator()\n",
    "\n",
    "t0 = widgets.HTML(value=\"Inputs separated by commas:\")\n",
    "p = widgets.Text()\n",
    "t = widgets.HTML(value=\"Output of the model:\")\n",
    "o = widgets.Output(description=\"y\")\n",
    "def compute(*ignore):\n",
    "    with o:\n",
    "        o.clear_output()\n",
    "        try:\n",
    "            output = emulator_concrete.get_compressive_strength(p.value.split(\",\"))\n",
    "            print(output)\n",
    "        except Exception as e:\n",
    "            print(e)\n",
    "p.observe(compute, 'value')\n",
    "widgets.VBox([t0, p, t, o])"
   ]
  },
  {
   "cell_type": "code",
   "execution_count": null,
   "metadata": {},
   "outputs": [],
   "source": []
  }
 ],
 "metadata": {
  "kernelspec": {
   "display_name": "Python 3 (ipykernel)",
   "language": "python",
   "name": "python3"
  },
  "language_info": {
   "codemirror_mode": {
    "name": "ipython",
    "version": 3
   },
   "file_extension": ".py",
   "mimetype": "text/x-python",
   "name": "python",
   "nbconvert_exporter": "python",
   "pygments_lexer": "ipython3",
   "version": "3.10.6"
  }
 },
 "nbformat": 4,
 "nbformat_minor": 4
}
