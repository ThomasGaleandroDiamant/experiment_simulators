{
 "cells": [
  {
   "cell_type": "code",
   "execution_count": 4,
   "metadata": {},
   "outputs": [],
   "source": [
    "import GPyOpt\n",
    "import numpy as np\n",
    "import matplotlib.pyplot as plt"
   ]
  },
  {
   "cell_type": "code",
   "execution_count": 5,
   "metadata": {},
   "outputs": [
    {
     "data": {
      "text/plain": [
       "7.081000000000007"
      ]
     },
     "execution_count": 5,
     "metadata": {},
     "output_type": "execute_result"
    }
   ],
   "source": [
    "from sklearn.ensemble import ExtraTreesRegressor\n",
    "from numpy import genfromtxt\n",
    "class BenzylationReactionSimulator:\n",
    "    \"\"\"\n",
    "    Simulates the yield of impurity in an N-benzylation reaction.\n",
    "    \"parameters\": [\n",
    "    {\"name\": \"flow_rate\",   \"low\": 0.2,   \"high\": 0.4},\n",
    "    {\"name\": \"ratio\",       \"low\": 1.0,   \"high\": 5.0},\n",
    "    {\"name\": \"solvent\",     \"low\": 0.5,   \"high\": 1.0},\n",
    "    {\"name\": \"temperature\", \"low\": 110.0, \"high\": 150.0}\n",
    "    ],\n",
    "    \"\"\"\n",
    "\n",
    "    def __init__(self):\n",
    "        data = genfromtxt('benzylation.csv', delimiter=',', skip_header = 0)\n",
    "        X = data[:,:-1]\n",
    "        y = data[:,-1]\n",
    "        self.model = ExtraTreesRegressor()\n",
    "        self.model.fit(X, y)\n",
    "\n",
    "    def get_impurity_yield(self, X):\n",
    "        \"\"\"\n",
    "        :rtype: list[float]\n",
    "        \"\"\"\n",
    "        X = np.array(X)\n",
    "        if len(X.shape) > 1:\n",
    "            return self.model.predict(X)[0]\n",
    "        else:\n",
    "            return self.model.predict([X])[0]\n",
    "\n",
    "# Exemple d'utilisation du simulateur\n",
    "emulator = BenzylationReactionSimulator()\n",
    "emulator.get_impurity_yield([[0.35, 2.0, 0.9, 135.0]])"
   ]
  },
  {
   "cell_type": "code",
   "execution_count": null,
   "metadata": {},
   "outputs": [],
   "source": []
  },
  {
   "cell_type": "code",
   "execution_count": 6,
   "metadata": {},
   "outputs": [
    {
     "data": {
      "text/plain": [
       "23.002200000000016"
      ]
     },
     "execution_count": 6,
     "metadata": {},
     "output_type": "execute_result"
    }
   ],
   "source": [
    "class ConcreteSimulator:\n",
    "    \"\"\"\n",
    "    All quantities are in kg/m3\n",
    "    Dimensions :\n",
    "    - Cement quantity (between 0 and 550)\n",
    "    - Blast furnace slag quantity (between 0 and 300)\n",
    "    - Fly ash quantity (between 0 and 200)\n",
    "    - Water quantity (between 120 and 240)\n",
    "    - Superplasticizer quantity (between 0 and 28)\n",
    "    - Coarse aggregate quantity (between 800 and 1150)\n",
    "    - Fine aggregate quantity (between 600 and 1000)\n",
    "    - Age (between 3 and 365)\n",
    "    Output :\n",
    "    - Compressive strength (in MPa)\n",
    "    \"\"\"\n",
    "\n",
    "    def __init__(self):\n",
    "        data = genfromtxt('Concrete_Data_clean.csv', delimiter=',', skip_header = 1)\n",
    "        X = data[:,:-1]\n",
    "        y = data[:,-1]\n",
    "        self.model = ExtraTreesRegressor()\n",
    "        self.model.fit(X, y)\n",
    "\n",
    "    def get_compressive_strength(self, X):\n",
    "        \"\"\"\n",
    "        :rtype: list[float]\n",
    "        \"\"\"\n",
    "        X = np.array(X)\n",
    "        if len(X.shape) > 1:\n",
    "            return self.model.predict(X)[0]\n",
    "        else:\n",
    "            return self.model.predict([X])[0]\n",
    "\n",
    "# Exemple d'utilisation du simulateur\n",
    "emulator = ConcreteSimulator()\n",
    "emulator.get_compressive_strength([[125, 150, 100, 130, 7, 900, 900, 8]])"
   ]
  },
  {
   "cell_type": "code",
   "execution_count": null,
   "metadata": {},
   "outputs": [],
   "source": []
  }
 ],
 "metadata": {
  "kernelspec": {
   "display_name": "Python 3 (ipykernel)",
   "language": "python",
   "name": "python3"
  },
  "language_info": {
   "codemirror_mode": {
    "name": "ipython",
    "version": 3
   },
   "file_extension": ".py",
   "mimetype": "text/x-python",
   "name": "python",
   "nbconvert_exporter": "python",
   "pygments_lexer": "ipython3",
   "version": "3.10.6"
  }
 },
 "nbformat": 4,
 "nbformat_minor": 4
}
