{
 "cells": [
  {
   "cell_type": "code",
   "execution_count": 9,
   "metadata": {},
   "outputs": [],
   "source": [
    "import numpy as np\n",
    "import ipywidgets as widgets"
   ]
  },
  {
   "cell_type": "code",
   "execution_count": 10,
   "metadata": {},
   "outputs": [],
   "source": [
    "from sklearn.ensemble import ExtraTreesRegressor\n",
    "from numpy import genfromtxt\n",
    "\n",
    "\n",
    "class ConcreteSimulator:\n",
    "    \"\"\"\n",
    "    All quantities are in kg/m3\n",
    "    Dimensions :\n",
    "    - Cement quantity (between 0 and 550)\n",
    "    - Blast furnace slag quantity (between 0 and 300)\n",
    "    - Fly ash quantity (between 0 and 200)\n",
    "    - Water quantity (between 120 and 240)\n",
    "    - Superplasticizer quantity (between 0 and 28)\n",
    "    - Coarse aggregate quantity (between 800 and 1150)\n",
    "    - Fine aggregate quantity (between 600 and 1000)\n",
    "    - Age (between 3 and 365)\n",
    "    Output :\n",
    "    - Compressive strength (in MPa)\n",
    "    \"\"\"\n",
    "\n",
    "    def __init__(self):\n",
    "        data = genfromtxt('Concrete_Data_clean.csv', delimiter=',', skip_header = 1)\n",
    "        X = data[:,:-1]\n",
    "        y = data[:,-1]\n",
    "        self.model = ExtraTreesRegressor()\n",
    "        self.model.fit(X, y)\n",
    "\n",
    "    def get_compressive_strength(self, X):\n",
    "        \"\"\"\n",
    "        :rtype: list[float]\n",
    "        \"\"\"\n",
    "        X = np.array(X)\n",
    "        if len(X.shape) > 1:\n",
    "            return self.model.predict(X)[0]\n",
    "        else:\n",
    "            return self.model.predict([X])[0]\n",
    "\n",
    "\n",
    "\n",
    "class BenzylationReactionSimulator:\n",
    "    \"\"\"\n",
    "    Simulates the yield of impurity in an N-benzylation reaction.\n",
    "    \"parameters\": [\n",
    "    {\"name\": \"flow_rate\",   \"low\": 0.2,   \"high\": 0.4},\n",
    "    {\"name\": \"ratio\",       \"low\": 1.0,   \"high\": 5.0},\n",
    "    {\"name\": \"solvent\",     \"low\": 0.5,   \"high\": 1.0},\n",
    "    {\"name\": \"temperature\", \"low\": 110.0, \"high\": 150.0}\n",
    "    ],\n",
    "    \"\"\"\n",
    "\n",
    "    def __init__(self):\n",
    "        data = genfromtxt('benzylation.csv', delimiter=',', skip_header = 0)\n",
    "        X = data[:,:-1]\n",
    "        y = data[:,-1]\n",
    "        self.model = ExtraTreesRegressor()\n",
    "        self.model.fit(X, y)\n",
    "\n",
    "    def get_impurity_yield(self, X):\n",
    "        \"\"\"\n",
    "        :rtype: list[float]\n",
    "        \"\"\"\n",
    "        X = np.array(X)\n",
    "        if len(X.shape) > 1:\n",
    "            return self.model.predict(X)[0]\n",
    "        else:\n",
    "            return self.model.predict([X])[0]\n",
    "\n"
   ]
  },
  {
   "cell_type": "markdown",
   "metadata": {},
   "source": [
    "# Benzylation reaction simulator\n",
    "    \"\"\"\n",
    "    Simulates the yield of impurity in an N-benzylation reaction.\n",
    "    \"parameters\": [\n",
    "    {\"name\": \"flow_rate\",   \"low\": 0.2,   \"high\": 0.4},\n",
    "    {\"name\": \"ratio\",       \"low\": 1.0,   \"high\": 5.0},\n",
    "    {\"name\": \"solvent\",     \"low\": 0.5,   \"high\": 1.0},\n",
    "    {\"name\": \"temperature\", \"low\": 110.0, \"high\": 150.0}\n",
    "    ],\n",
    "    \"\"\""
   ]
  },
  {
   "cell_type": "code",
   "execution_count": 11,
   "metadata": {},
   "outputs": [
    {
     "data": {
      "application/vnd.jupyter.widget-view+json": {
       "model_id": "a068c8d26879458188ebbca3bf6a9b84",
       "version_major": 2,
       "version_minor": 0
      },
      "text/plain": [
       "VBox(children=(HTML(value='Inputs separated by commas:'), Text(value=''), HTML(value='Output of the model:'), …"
      ]
     },
     "execution_count": 11,
     "metadata": {},
     "output_type": "execute_result"
    }
   ],
   "source": [
    "b_emulator = BenzylationReactionSimulator()\n",
    "\n",
    "b_t0 = widgets.HTML(value=\"Inputs separated by commas:\")\n",
    "b_p = widgets.Text()\n",
    "b_t = widgets.HTML(value=\"Output of the model:\")\n",
    "b_o = widgets.Output(description=\"y\")\n",
    "def b_compute(*ignore):\n",
    "    with b_o:\n",
    "        b_o.clear_output()\n",
    "        try:\n",
    "            b_output = b_emulator.get_impurity_yield(b_p.value.split(\",\"))\n",
    "            print(b_output)\n",
    "        except Exception as e:\n",
    "            print(e)\n",
    "b_p.observe(b_compute, 'value')\n",
    "widgets.VBox([b_t0, b_p, b_t, b_o])\n"
   ]
  },
  {
   "cell_type": "markdown",
   "metadata": {},
   "source": [
    "# Concrete formulation simulator\n",
    "    \"\"\"\n",
    "    All quantities are in kg/m3\n",
    "    Dimensions :\n",
    "    - Cement quantity (between 0 and 550)\n",
    "    - Blast furnace slag quantity (between 0 and 300)\n",
    "    - Fly ash quantity (between 0 and 200)\n",
    "    - Water quantity (between 120 and 240)\n",
    "    - Superplasticizer quantity (between 0 and 28)\n",
    "    - Coarse aggregate quantity (between 800 and 1150)\n",
    "    - Fine aggregate quantity (between 600 and 1000)\n",
    "    - Age (between 3 and 365)\n",
    "    Output :\n",
    "    - Compressive strength (in MPa)\n",
    "    \"\"\""
   ]
  },
  {
   "cell_type": "code",
   "execution_count": 13,
   "metadata": {},
   "outputs": [
    {
     "data": {
      "application/vnd.jupyter.widget-view+json": {
       "model_id": "6fc8df0eb97446dcbb5d22eac7680536",
       "version_major": 2,
       "version_minor": 0
      },
      "text/plain": [
       "VBox(children=(HTML(value='Inputs separated by commas:'), Text(value=''), HTML(value='Output of the model:'), …"
      ]
     },
     "execution_count": 13,
     "metadata": {},
     "output_type": "execute_result"
    }
   ],
   "source": [
    "\n",
    "# Exemple d'utilisation du simulateur\n",
    "c_emulator = ConcreteSimulator()\n",
    "\n",
    "c_t0 = widgets.HTML(value=\"Inputs separated by commas:\")\n",
    "c_p = widgets.Text()\n",
    "c_t = widgets.HTML(value=\"Output of the model:\")\n",
    "c_o = widgets.Output(description=\"y\")\n",
    "def c_compute(*ignore):\n",
    "    with c_o:\n",
    "        c_o.clear_output()\n",
    "        try:\n",
    "            c_output = c_emulator.get_compressive_strength(c_p.value.split(\",\"))\n",
    "            print(c_output)\n",
    "        except Exception as e:\n",
    "            print(e)\n",
    "c_p.observe(c_compute, 'value')\n",
    "widgets.VBox([c_t0, c_p, c_t, c_o])"
   ]
  },
  {
   "cell_type": "code",
   "execution_count": null,
   "metadata": {},
   "outputs": [],
   "source": []
  }
 ],
 "metadata": {
  "kernelspec": {
   "display_name": "Python 3 (ipykernel)",
   "language": "python",
   "name": "python3"
  },
  "language_info": {
   "codemirror_mode": {
    "name": "ipython",
    "version": 3
   },
   "file_extension": ".py",
   "mimetype": "text/x-python",
   "name": "python",
   "nbconvert_exporter": "python",
   "pygments_lexer": "ipython3",
   "version": "3.10.6"
  }
 },
 "nbformat": 4,
 "nbformat_minor": 4
}
